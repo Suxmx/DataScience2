{
 "cells": [
  {
   "cell_type": "code",
   "execution_count": 78,
   "id": "01e5df5e",
   "metadata": {
    "ExecuteTime": {
     "end_time": "2023-05-12T12:10:16.192997500Z",
     "start_time": "2023-05-12T12:10:16.175653300Z"
    }
   },
   "outputs": [],
   "source": [
    "import pandas as pd\n",
    "from sklearn.preprocessing import LabelEncoder\n",
    "from sklearn.model_selection import train_test_split\n",
    "from sklearn.linear_model import LogisticRegression\n",
    "from sklearn.metrics import classification_report"
   ]
  },
  {
   "cell_type": "code",
   "execution_count": 79,
   "id": "905c1054",
   "metadata": {
    "ExecuteTime": {
     "end_time": "2023-05-12T12:10:16.250315800Z",
     "start_time": "2023-05-12T12:10:16.183997600Z"
    }
   },
   "outputs": [
    {
     "data": {
      "text/plain": "  buying  maint doors persons lug_boot safety acceptance\n0  vhigh  vhigh     2       2    small    low      unacc\n1  vhigh  vhigh     2       2    small    med      unacc\n2  vhigh  vhigh     2       2    small   high      unacc\n3  vhigh  vhigh     2       2      med    low      unacc\n4  vhigh  vhigh     2       2      med    med      unacc",
      "text/html": "<div>\n<style scoped>\n    .dataframe tbody tr th:only-of-type {\n        vertical-align: middle;\n    }\n\n    .dataframe tbody tr th {\n        vertical-align: top;\n    }\n\n    .dataframe thead th {\n        text-align: right;\n    }\n</style>\n<table border=\"1\" class=\"dataframe\">\n  <thead>\n    <tr style=\"text-align: right;\">\n      <th></th>\n      <th>buying</th>\n      <th>maint</th>\n      <th>doors</th>\n      <th>persons</th>\n      <th>lug_boot</th>\n      <th>safety</th>\n      <th>acceptance</th>\n    </tr>\n  </thead>\n  <tbody>\n    <tr>\n      <th>0</th>\n      <td>vhigh</td>\n      <td>vhigh</td>\n      <td>2</td>\n      <td>2</td>\n      <td>small</td>\n      <td>low</td>\n      <td>unacc</td>\n    </tr>\n    <tr>\n      <th>1</th>\n      <td>vhigh</td>\n      <td>vhigh</td>\n      <td>2</td>\n      <td>2</td>\n      <td>small</td>\n      <td>med</td>\n      <td>unacc</td>\n    </tr>\n    <tr>\n      <th>2</th>\n      <td>vhigh</td>\n      <td>vhigh</td>\n      <td>2</td>\n      <td>2</td>\n      <td>small</td>\n      <td>high</td>\n      <td>unacc</td>\n    </tr>\n    <tr>\n      <th>3</th>\n      <td>vhigh</td>\n      <td>vhigh</td>\n      <td>2</td>\n      <td>2</td>\n      <td>med</td>\n      <td>low</td>\n      <td>unacc</td>\n    </tr>\n    <tr>\n      <th>4</th>\n      <td>vhigh</td>\n      <td>vhigh</td>\n      <td>2</td>\n      <td>2</td>\n      <td>med</td>\n      <td>med</td>\n      <td>unacc</td>\n    </tr>\n  </tbody>\n</table>\n</div>"
     },
     "execution_count": 79,
     "metadata": {},
     "output_type": "execute_result"
    }
   ],
   "source": [
    "car = pd.read_csv(\"D:/input/car.csv\")\n",
    "car.head(5)"
   ]
  },
  {
   "cell_type": "code",
   "execution_count": 80,
   "id": "693b1a57",
   "metadata": {
    "ExecuteTime": {
     "end_time": "2023-05-12T12:10:16.251315600Z",
     "start_time": "2023-05-12T12:10:16.199924900Z"
    }
   },
   "outputs": [
    {
     "data": {
      "text/plain": "(1728, 7)"
     },
     "execution_count": 80,
     "metadata": {},
     "output_type": "execute_result"
    }
   ],
   "source": [
    "car.shape"
   ]
  },
  {
   "cell_type": "code",
   "execution_count": 81,
   "id": "3b98b8ca",
   "metadata": {
    "ExecuteTime": {
     "end_time": "2023-05-12T12:10:16.251863900Z",
     "start_time": "2023-05-12T12:10:16.215308700Z"
    }
   },
   "outputs": [
    {
     "name": "stdout",
     "output_type": "stream",
     "text": [
      "unacc    1210\n",
      "acc       384\n",
      "good       69\n",
      "vgood      65\n",
      "Name: acceptance, dtype: int64\n"
     ]
    }
   ],
   "source": [
    "# 接受程度数量分布\n",
    "print(car[\"acceptance\"].value_counts())"
   ]
  },
  {
   "cell_type": "code",
   "execution_count": 82,
   "id": "48503d78",
   "metadata": {
    "ExecuteTime": {
     "end_time": "2023-05-12T12:10:16.251863900Z",
     "start_time": "2023-05-12T12:10:16.231917400Z"
    }
   },
   "outputs": [
    {
     "name": "stdout",
     "output_type": "stream",
     "text": [
      "unacc    0.700231\n",
      "acc      0.222222\n",
      "good     0.039931\n",
      "vgood    0.037616\n",
      "Name: acceptance, dtype: float64\n"
     ]
    }
   ],
   "source": [
    "#接受程度比例分布\n",
    "print((car[\"acceptance\"].value_counts() + 0.0) / car.shape[0])#+0.0的作用？"
   ]
  },
  {
   "cell_type": "code",
   "execution_count": 83,
   "id": "56e91b55",
   "metadata": {
    "ExecuteTime": {
     "end_time": "2023-05-12T12:10:16.275449200Z",
     "start_time": "2023-05-12T12:10:16.246316Z"
    }
   },
   "outputs": [],
   "source": [
    "encode_df = car.copy()\n",
    "lug_dict = {\"small\": 0, \"med\": 1, \"big\": 2}\n",
    "encode_df[\"lug_boot\"] = encode_df[\"lug_boot\"].map(lug_dict)"
   ]
  },
  {
   "cell_type": "code",
   "execution_count": 84,
   "id": "10adacc5",
   "metadata": {
    "ExecuteTime": {
     "end_time": "2023-05-12T12:10:16.354209700Z",
     "start_time": "2023-05-12T12:10:16.262678900Z"
    }
   },
   "outputs": [
    {
     "data": {
      "text/plain": "0    0\n1    0\n2    0\n3    1\n4    1\nName: lug_boot, dtype: int64"
     },
     "execution_count": 84,
     "metadata": {},
     "output_type": "execute_result"
    }
   ],
   "source": [
    "# 查看编码列的前五行\n",
    "encode_df[\"lug_boot\"].head(5)"
   ]
  },
  {
   "cell_type": "code",
   "execution_count": 85,
   "id": "af92df73",
   "metadata": {
    "ExecuteTime": {
     "end_time": "2023-05-12T12:10:16.399543200Z",
     "start_time": "2023-05-12T12:10:16.277456600Z"
    }
   },
   "outputs": [],
   "source": [
    "#safety特征数字编码\n",
    "safe_dict = {\"low\": 0, \"med\": 1, \"high\": 2}\n",
    "encode_df[\"safety\"] = encode_df[\"safety\"].map(safe_dict)"
   ]
  },
  {
   "cell_type": "code",
   "execution_count": 86,
   "id": "ada6bdb9",
   "metadata": {
    "ExecuteTime": {
     "end_time": "2023-05-12T12:10:16.413625800Z",
     "start_time": "2023-05-12T12:10:16.293927400Z"
    }
   },
   "outputs": [],
   "source": [
    "#buying特征数字编码\n",
    "buy_dict = {\"vhigh\": 0, \"high\": 1, \"med\": 2,\"low\":3}\n",
    "encode_df[\"buying\"] = encode_df[\"buying\"].map(buy_dict)"
   ]
  },
  {
   "cell_type": "code",
   "execution_count": 87,
   "id": "ec09cc2c",
   "metadata": {
    "ExecuteTime": {
     "end_time": "2023-05-12T12:10:16.414375900Z",
     "start_time": "2023-05-12T12:10:16.311780500Z"
    }
   },
   "outputs": [],
   "source": [
    "#maint特征数字编码\n",
    "maint_dict = {\"vhigh\": 0, \"high\": 1, \"med\": 2,\"low\":3}\n",
    "encode_df[\"maint\"] = encode_df[\"maint\"].map(maint_dict)"
   ]
  },
  {
   "cell_type": "code",
   "execution_count": 88,
   "id": "91c6d41a",
   "metadata": {
    "ExecuteTime": {
     "end_time": "2023-05-12T12:10:16.415823200Z",
     "start_time": "2023-05-12T12:10:16.325001900Z"
    }
   },
   "outputs": [
    {
     "data": {
      "text/plain": "   buying  maint doors persons  lug_boot  safety acceptance\n0       0      0     2       2         0       0      unacc\n1       0      0     2       2         0       1      unacc\n2       0      0     2       2         0       2      unacc\n3       0      0     2       2         1       0      unacc\n4       0      0     2       2         1       1      unacc",
      "text/html": "<div>\n<style scoped>\n    .dataframe tbody tr th:only-of-type {\n        vertical-align: middle;\n    }\n\n    .dataframe tbody tr th {\n        vertical-align: top;\n    }\n\n    .dataframe thead th {\n        text-align: right;\n    }\n</style>\n<table border=\"1\" class=\"dataframe\">\n  <thead>\n    <tr style=\"text-align: right;\">\n      <th></th>\n      <th>buying</th>\n      <th>maint</th>\n      <th>doors</th>\n      <th>persons</th>\n      <th>lug_boot</th>\n      <th>safety</th>\n      <th>acceptance</th>\n    </tr>\n  </thead>\n  <tbody>\n    <tr>\n      <th>0</th>\n      <td>0</td>\n      <td>0</td>\n      <td>2</td>\n      <td>2</td>\n      <td>0</td>\n      <td>0</td>\n      <td>unacc</td>\n    </tr>\n    <tr>\n      <th>1</th>\n      <td>0</td>\n      <td>0</td>\n      <td>2</td>\n      <td>2</td>\n      <td>0</td>\n      <td>1</td>\n      <td>unacc</td>\n    </tr>\n    <tr>\n      <th>2</th>\n      <td>0</td>\n      <td>0</td>\n      <td>2</td>\n      <td>2</td>\n      <td>0</td>\n      <td>2</td>\n      <td>unacc</td>\n    </tr>\n    <tr>\n      <th>3</th>\n      <td>0</td>\n      <td>0</td>\n      <td>2</td>\n      <td>2</td>\n      <td>1</td>\n      <td>0</td>\n      <td>unacc</td>\n    </tr>\n    <tr>\n      <th>4</th>\n      <td>0</td>\n      <td>0</td>\n      <td>2</td>\n      <td>2</td>\n      <td>1</td>\n      <td>1</td>\n      <td>unacc</td>\n    </tr>\n  </tbody>\n</table>\n</div>"
     },
     "execution_count": 88,
     "metadata": {},
     "output_type": "execute_result"
    }
   ],
   "source": [
    "# 查看编码后的数据前五行\n",
    "encode_df.head(5)"
   ]
  },
  {
   "cell_type": "code",
   "execution_count": 89,
   "id": "53a657b7",
   "metadata": {
    "ExecuteTime": {
     "end_time": "2023-05-12T12:10:16.418827300Z",
     "start_time": "2023-05-12T12:10:16.342205900Z"
    }
   },
   "outputs": [],
   "source": [
    "# 将车门数量一列中，5more替换为6\n",
    "encode_df.doors.replace(\"5more\", \"6\", inplace=True)\n",
    "# 将核载人数一列中，more替换为6\n",
    "encode_df.persons.replace(\"more\", \"6\", inplace=True)"
   ]
  },
  {
   "cell_type": "code",
   "execution_count": 90,
   "id": "f2ac01d8",
   "metadata": {
    "ExecuteTime": {
     "end_time": "2023-05-12T12:10:16.437443200Z",
     "start_time": "2023-05-12T12:10:16.357394600Z"
    }
   },
   "outputs": [
    {
     "name": "stdout",
     "output_type": "stream",
     "text": [
      "2    432\n",
      "3    432\n",
      "4    432\n",
      "6    432\n",
      "Name: doors, dtype: int64\n"
     ]
    }
   ],
   "source": [
    "print(encode_df[\"doors\"].value_counts())"
   ]
  },
  {
   "cell_type": "code",
   "execution_count": 91,
   "id": "ac7b1cd2",
   "metadata": {
    "ExecuteTime": {
     "end_time": "2023-05-12T12:10:16.468715100Z",
     "start_time": "2023-05-12T12:10:16.373344900Z"
    }
   },
   "outputs": [
    {
     "name": "stdout",
     "output_type": "stream",
     "text": [
      "2    576\n",
      "4    576\n",
      "6    576\n",
      "Name: persons, dtype: int64\n"
     ]
    }
   ],
   "source": [
    "print(encode_df[\"persons\"].value_counts())"
   ]
  },
  {
   "cell_type": "code",
   "execution_count": 92,
   "id": "b3808a70",
   "metadata": {
    "ExecuteTime": {
     "end_time": "2023-05-12T12:10:16.468715100Z",
     "start_time": "2023-05-12T12:10:16.399900300Z"
    }
   },
   "outputs": [
    {
     "name": "stdout",
     "output_type": "stream",
     "text": [
      "object object\n"
     ]
    }
   ],
   "source": [
    "print(encode_df.doors.dtype, encode_df.persons.dtype)"
   ]
  },
  {
   "cell_type": "code",
   "execution_count": 93,
   "id": "95b65971",
   "metadata": {
    "ExecuteTime": {
     "end_time": "2023-05-12T12:10:16.469299300Z",
     "start_time": "2023-05-12T12:10:16.401583300Z"
    }
   },
   "outputs": [
    {
     "name": "stdout",
     "output_type": "stream",
     "text": [
      "int32 int32\n"
     ]
    }
   ],
   "source": [
    "encode_df[\"doors\"] = encode_df[\"doors\"].astype(\"int\")\n",
    "encode_df[\"persons\"] = encode_df[\"persons\"].astype(\"int\")\n",
    "print(encode_df.doors.dtype, encode_df.persons.dtype)"
   ]
  },
  {
   "cell_type": "code",
   "execution_count": 94,
   "id": "000c039e",
   "metadata": {
    "ExecuteTime": {
     "end_time": "2023-05-12T12:10:16.469299300Z",
     "start_time": "2023-05-12T12:10:16.416975100Z"
    }
   },
   "outputs": [
    {
     "data": {
      "text/plain": "   buying  maint  doors  persons  lug_boot  safety acceptance\n0       0      0      2        2         0       0      unacc\n1       0      0      2        2         0       1      unacc\n2       0      0      2        2         0       2      unacc\n3       0      0      2        2         1       0      unacc\n4       0      0      2        2         1       1      unacc",
      "text/html": "<div>\n<style scoped>\n    .dataframe tbody tr th:only-of-type {\n        vertical-align: middle;\n    }\n\n    .dataframe tbody tr th {\n        vertical-align: top;\n    }\n\n    .dataframe thead th {\n        text-align: right;\n    }\n</style>\n<table border=\"1\" class=\"dataframe\">\n  <thead>\n    <tr style=\"text-align: right;\">\n      <th></th>\n      <th>buying</th>\n      <th>maint</th>\n      <th>doors</th>\n      <th>persons</th>\n      <th>lug_boot</th>\n      <th>safety</th>\n      <th>acceptance</th>\n    </tr>\n  </thead>\n  <tbody>\n    <tr>\n      <th>0</th>\n      <td>0</td>\n      <td>0</td>\n      <td>2</td>\n      <td>2</td>\n      <td>0</td>\n      <td>0</td>\n      <td>unacc</td>\n    </tr>\n    <tr>\n      <th>1</th>\n      <td>0</td>\n      <td>0</td>\n      <td>2</td>\n      <td>2</td>\n      <td>0</td>\n      <td>1</td>\n      <td>unacc</td>\n    </tr>\n    <tr>\n      <th>2</th>\n      <td>0</td>\n      <td>0</td>\n      <td>2</td>\n      <td>2</td>\n      <td>0</td>\n      <td>2</td>\n      <td>unacc</td>\n    </tr>\n    <tr>\n      <th>3</th>\n      <td>0</td>\n      <td>0</td>\n      <td>2</td>\n      <td>2</td>\n      <td>1</td>\n      <td>0</td>\n      <td>unacc</td>\n    </tr>\n    <tr>\n      <th>4</th>\n      <td>0</td>\n      <td>0</td>\n      <td>2</td>\n      <td>2</td>\n      <td>1</td>\n      <td>1</td>\n      <td>unacc</td>\n    </tr>\n  </tbody>\n</table>\n</div>"
     },
     "execution_count": 94,
     "metadata": {},
     "output_type": "execute_result"
    }
   ],
   "source": [
    "encode_df.head(5)"
   ]
  },
  {
   "cell_type": "code",
   "execution_count": 95,
   "id": "e5d0d8cf",
   "metadata": {
    "ExecuteTime": {
     "end_time": "2023-05-12T12:10:16.503289500Z",
     "start_time": "2023-05-12T12:10:16.435326500Z"
    }
   },
   "outputs": [],
   "source": [
    "# 创建编码器\n",
    "buying_encoder = LabelEncoder()\n",
    "# 适配数据集并完成编码\n",
    "encoded_buying = buying_encoder.fit_transform(car[\"buying\"])\n",
    "#一键编码 但是次序打乱了"
   ]
  },
  {
   "cell_type": "code",
   "execution_count": 96,
   "id": "a558cc44",
   "metadata": {
    "ExecuteTime": {
     "end_time": "2023-05-12T12:10:16.517323400Z",
     "start_time": "2023-05-12T12:10:16.449180800Z"
    }
   },
   "outputs": [
    {
     "data": {
      "text/plain": "array(['high', 'low', 'med', 'vhigh'], dtype=object)"
     },
     "execution_count": 96,
     "metadata": {},
     "output_type": "execute_result"
    }
   ],
   "source": [
    "buying_encoder.inverse_transform([0, 1, 2, 3])\n",
    "#将编码后的数据转换为原来的"
   ]
  },
  {
   "cell_type": "code",
   "execution_count": 97,
   "id": "fc85a0b0",
   "metadata": {
    "ExecuteTime": {
     "end_time": "2023-05-12T12:10:16.531653800Z",
     "start_time": "2023-05-12T12:10:16.464180Z"
    }
   },
   "outputs": [
    {
     "data": {
      "text/plain": "    buying__high  buying__low  buying__med  buying__vhigh\n0              0            0            0              1\n1              0            0            0              1\n2              0            0            0              1\n3              0            0            0              1\n4              0            0            0              1\n5              0            0            0              1\n6              0            0            0              1\n7              0            0            0              1\n8              0            0            0              1\n9              0            0            0              1\n10             0            0            0              1\n11             0            0            0              1\n12             0            0            0              1\n13             0            0            0              1\n14             0            0            0              1\n15             0            0            0              1\n16             0            0            0              1\n17             0            0            0              1\n18             0            0            0              1\n19             0            0            0              1\n20             0            0            0              1\n21             0            0            0              1\n22             0            0            0              1\n23             0            0            0              1\n24             0            0            0              1\n25             0            0            0              1\n26             0            0            0              1\n27             0            0            0              1\n28             0            0            0              1\n29             0            0            0              1\n30             0            0            0              1\n31             0            0            0              1\n32             0            0            0              1\n33             0            0            0              1\n34             0            0            0              1\n35             0            0            0              1\n36             0            0            0              1\n37             0            0            0              1\n38             0            0            0              1\n39             0            0            0              1\n40             0            0            0              1\n41             0            0            0              1\n42             0            0            0              1\n43             0            0            0              1\n44             0            0            0              1\n45             0            0            0              1\n46             0            0            0              1\n47             0            0            0              1\n48             0            0            0              1\n49             0            0            0              1",
      "text/html": "<div>\n<style scoped>\n    .dataframe tbody tr th:only-of-type {\n        vertical-align: middle;\n    }\n\n    .dataframe tbody tr th {\n        vertical-align: top;\n    }\n\n    .dataframe thead th {\n        text-align: right;\n    }\n</style>\n<table border=\"1\" class=\"dataframe\">\n  <thead>\n    <tr style=\"text-align: right;\">\n      <th></th>\n      <th>buying__high</th>\n      <th>buying__low</th>\n      <th>buying__med</th>\n      <th>buying__vhigh</th>\n    </tr>\n  </thead>\n  <tbody>\n    <tr>\n      <th>0</th>\n      <td>0</td>\n      <td>0</td>\n      <td>0</td>\n      <td>1</td>\n    </tr>\n    <tr>\n      <th>1</th>\n      <td>0</td>\n      <td>0</td>\n      <td>0</td>\n      <td>1</td>\n    </tr>\n    <tr>\n      <th>2</th>\n      <td>0</td>\n      <td>0</td>\n      <td>0</td>\n      <td>1</td>\n    </tr>\n    <tr>\n      <th>3</th>\n      <td>0</td>\n      <td>0</td>\n      <td>0</td>\n      <td>1</td>\n    </tr>\n    <tr>\n      <th>4</th>\n      <td>0</td>\n      <td>0</td>\n      <td>0</td>\n      <td>1</td>\n    </tr>\n    <tr>\n      <th>5</th>\n      <td>0</td>\n      <td>0</td>\n      <td>0</td>\n      <td>1</td>\n    </tr>\n    <tr>\n      <th>6</th>\n      <td>0</td>\n      <td>0</td>\n      <td>0</td>\n      <td>1</td>\n    </tr>\n    <tr>\n      <th>7</th>\n      <td>0</td>\n      <td>0</td>\n      <td>0</td>\n      <td>1</td>\n    </tr>\n    <tr>\n      <th>8</th>\n      <td>0</td>\n      <td>0</td>\n      <td>0</td>\n      <td>1</td>\n    </tr>\n    <tr>\n      <th>9</th>\n      <td>0</td>\n      <td>0</td>\n      <td>0</td>\n      <td>1</td>\n    </tr>\n    <tr>\n      <th>10</th>\n      <td>0</td>\n      <td>0</td>\n      <td>0</td>\n      <td>1</td>\n    </tr>\n    <tr>\n      <th>11</th>\n      <td>0</td>\n      <td>0</td>\n      <td>0</td>\n      <td>1</td>\n    </tr>\n    <tr>\n      <th>12</th>\n      <td>0</td>\n      <td>0</td>\n      <td>0</td>\n      <td>1</td>\n    </tr>\n    <tr>\n      <th>13</th>\n      <td>0</td>\n      <td>0</td>\n      <td>0</td>\n      <td>1</td>\n    </tr>\n    <tr>\n      <th>14</th>\n      <td>0</td>\n      <td>0</td>\n      <td>0</td>\n      <td>1</td>\n    </tr>\n    <tr>\n      <th>15</th>\n      <td>0</td>\n      <td>0</td>\n      <td>0</td>\n      <td>1</td>\n    </tr>\n    <tr>\n      <th>16</th>\n      <td>0</td>\n      <td>0</td>\n      <td>0</td>\n      <td>1</td>\n    </tr>\n    <tr>\n      <th>17</th>\n      <td>0</td>\n      <td>0</td>\n      <td>0</td>\n      <td>1</td>\n    </tr>\n    <tr>\n      <th>18</th>\n      <td>0</td>\n      <td>0</td>\n      <td>0</td>\n      <td>1</td>\n    </tr>\n    <tr>\n      <th>19</th>\n      <td>0</td>\n      <td>0</td>\n      <td>0</td>\n      <td>1</td>\n    </tr>\n    <tr>\n      <th>20</th>\n      <td>0</td>\n      <td>0</td>\n      <td>0</td>\n      <td>1</td>\n    </tr>\n    <tr>\n      <th>21</th>\n      <td>0</td>\n      <td>0</td>\n      <td>0</td>\n      <td>1</td>\n    </tr>\n    <tr>\n      <th>22</th>\n      <td>0</td>\n      <td>0</td>\n      <td>0</td>\n      <td>1</td>\n    </tr>\n    <tr>\n      <th>23</th>\n      <td>0</td>\n      <td>0</td>\n      <td>0</td>\n      <td>1</td>\n    </tr>\n    <tr>\n      <th>24</th>\n      <td>0</td>\n      <td>0</td>\n      <td>0</td>\n      <td>1</td>\n    </tr>\n    <tr>\n      <th>25</th>\n      <td>0</td>\n      <td>0</td>\n      <td>0</td>\n      <td>1</td>\n    </tr>\n    <tr>\n      <th>26</th>\n      <td>0</td>\n      <td>0</td>\n      <td>0</td>\n      <td>1</td>\n    </tr>\n    <tr>\n      <th>27</th>\n      <td>0</td>\n      <td>0</td>\n      <td>0</td>\n      <td>1</td>\n    </tr>\n    <tr>\n      <th>28</th>\n      <td>0</td>\n      <td>0</td>\n      <td>0</td>\n      <td>1</td>\n    </tr>\n    <tr>\n      <th>29</th>\n      <td>0</td>\n      <td>0</td>\n      <td>0</td>\n      <td>1</td>\n    </tr>\n    <tr>\n      <th>30</th>\n      <td>0</td>\n      <td>0</td>\n      <td>0</td>\n      <td>1</td>\n    </tr>\n    <tr>\n      <th>31</th>\n      <td>0</td>\n      <td>0</td>\n      <td>0</td>\n      <td>1</td>\n    </tr>\n    <tr>\n      <th>32</th>\n      <td>0</td>\n      <td>0</td>\n      <td>0</td>\n      <td>1</td>\n    </tr>\n    <tr>\n      <th>33</th>\n      <td>0</td>\n      <td>0</td>\n      <td>0</td>\n      <td>1</td>\n    </tr>\n    <tr>\n      <th>34</th>\n      <td>0</td>\n      <td>0</td>\n      <td>0</td>\n      <td>1</td>\n    </tr>\n    <tr>\n      <th>35</th>\n      <td>0</td>\n      <td>0</td>\n      <td>0</td>\n      <td>1</td>\n    </tr>\n    <tr>\n      <th>36</th>\n      <td>0</td>\n      <td>0</td>\n      <td>0</td>\n      <td>1</td>\n    </tr>\n    <tr>\n      <th>37</th>\n      <td>0</td>\n      <td>0</td>\n      <td>0</td>\n      <td>1</td>\n    </tr>\n    <tr>\n      <th>38</th>\n      <td>0</td>\n      <td>0</td>\n      <td>0</td>\n      <td>1</td>\n    </tr>\n    <tr>\n      <th>39</th>\n      <td>0</td>\n      <td>0</td>\n      <td>0</td>\n      <td>1</td>\n    </tr>\n    <tr>\n      <th>40</th>\n      <td>0</td>\n      <td>0</td>\n      <td>0</td>\n      <td>1</td>\n    </tr>\n    <tr>\n      <th>41</th>\n      <td>0</td>\n      <td>0</td>\n      <td>0</td>\n      <td>1</td>\n    </tr>\n    <tr>\n      <th>42</th>\n      <td>0</td>\n      <td>0</td>\n      <td>0</td>\n      <td>1</td>\n    </tr>\n    <tr>\n      <th>43</th>\n      <td>0</td>\n      <td>0</td>\n      <td>0</td>\n      <td>1</td>\n    </tr>\n    <tr>\n      <th>44</th>\n      <td>0</td>\n      <td>0</td>\n      <td>0</td>\n      <td>1</td>\n    </tr>\n    <tr>\n      <th>45</th>\n      <td>0</td>\n      <td>0</td>\n      <td>0</td>\n      <td>1</td>\n    </tr>\n    <tr>\n      <th>46</th>\n      <td>0</td>\n      <td>0</td>\n      <td>0</td>\n      <td>1</td>\n    </tr>\n    <tr>\n      <th>47</th>\n      <td>0</td>\n      <td>0</td>\n      <td>0</td>\n      <td>1</td>\n    </tr>\n    <tr>\n      <th>48</th>\n      <td>0</td>\n      <td>0</td>\n      <td>0</td>\n      <td>1</td>\n    </tr>\n    <tr>\n      <th>49</th>\n      <td>0</td>\n      <td>0</td>\n      <td>0</td>\n      <td>1</td>\n    </tr>\n  </tbody>\n</table>\n</div>"
     },
     "execution_count": 97,
     "metadata": {},
     "output_type": "execute_result"
    }
   ],
   "source": [
    "pd.get_dummies(car[\"buying\"], prefix=\"buying_\").head(50)\n",
    "#onehot"
   ]
  },
  {
   "cell_type": "code",
   "execution_count": 98,
   "id": "2fb17eec",
   "metadata": {
    "ExecuteTime": {
     "end_time": "2023-05-12T12:10:16.604063400Z",
     "start_time": "2023-05-12T12:10:16.479363900Z"
    }
   },
   "outputs": [],
   "source": [
    "car_onehot_encoded = pd.DataFrame()"
   ]
  },
  {
   "cell_type": "code",
   "execution_count": 99,
   "id": "dfe267a0",
   "metadata": {
    "ExecuteTime": {
     "end_time": "2023-05-12T12:10:16.619266200Z",
     "start_time": "2023-05-12T12:10:16.503289500Z"
    }
   },
   "outputs": [],
   "source": [
    "for col in [\"buying\", \"maint\", \"doors\", \"persons\", \"lug_boot\", \"safety\"]:#将每列加入list 进行重复的操作 减少重复代码\n",
    "    col_encoded = pd.get_dummies(car[col], prefix=col + \"_\")\n",
    "    car_onehot_encoded = pd.concat([car_onehot_encoded, col_encoded], axis=1)"
   ]
  },
  {
   "cell_type": "code",
   "execution_count": 100,
   "id": "f3683633",
   "metadata": {
    "ExecuteTime": {
     "end_time": "2023-05-12T12:10:16.620248300Z",
     "start_time": "2023-05-12T12:10:16.511302900Z"
    }
   },
   "outputs": [],
   "source": [
    "car_onehot_encoded = pd.concat([car_onehot_encoded, car[\"acceptance\"]], axis=1)"
   ]
  },
  {
   "cell_type": "code",
   "execution_count": 101,
   "id": "1ec200ab",
   "metadata": {
    "ExecuteTime": {
     "end_time": "2023-05-12T12:10:16.620248300Z",
     "start_time": "2023-05-12T12:10:16.528524700Z"
    }
   },
   "outputs": [
    {
     "data": {
      "text/plain": "   buying__high  buying__low  buying__med  buying__vhigh  maint__high  \\\n0             0            0            0              1            0   \n1             0            0            0              1            0   \n2             0            0            0              1            0   \n3             0            0            0              1            0   \n4             0            0            0              1            0   \n\n   maint__low  maint__med  maint__vhigh  doors__2  doors__3  ...  persons__2  \\\n0           0           0             1         1         0  ...           1   \n1           0           0             1         1         0  ...           1   \n2           0           0             1         1         0  ...           1   \n3           0           0             1         1         0  ...           1   \n4           0           0             1         1         0  ...           1   \n\n   persons__4  persons__more  lug_boot__big  lug_boot__med  lug_boot__small  \\\n0           0              0              0              0                1   \n1           0              0              0              0                1   \n2           0              0              0              0                1   \n3           0              0              0              1                0   \n4           0              0              0              1                0   \n\n   safety__high  safety__low  safety__med  acceptance  \n0             0            1            0       unacc  \n1             0            0            1       unacc  \n2             1            0            0       unacc  \n3             0            1            0       unacc  \n4             0            0            1       unacc  \n\n[5 rows x 22 columns]",
      "text/html": "<div>\n<style scoped>\n    .dataframe tbody tr th:only-of-type {\n        vertical-align: middle;\n    }\n\n    .dataframe tbody tr th {\n        vertical-align: top;\n    }\n\n    .dataframe thead th {\n        text-align: right;\n    }\n</style>\n<table border=\"1\" class=\"dataframe\">\n  <thead>\n    <tr style=\"text-align: right;\">\n      <th></th>\n      <th>buying__high</th>\n      <th>buying__low</th>\n      <th>buying__med</th>\n      <th>buying__vhigh</th>\n      <th>maint__high</th>\n      <th>maint__low</th>\n      <th>maint__med</th>\n      <th>maint__vhigh</th>\n      <th>doors__2</th>\n      <th>doors__3</th>\n      <th>...</th>\n      <th>persons__2</th>\n      <th>persons__4</th>\n      <th>persons__more</th>\n      <th>lug_boot__big</th>\n      <th>lug_boot__med</th>\n      <th>lug_boot__small</th>\n      <th>safety__high</th>\n      <th>safety__low</th>\n      <th>safety__med</th>\n      <th>acceptance</th>\n    </tr>\n  </thead>\n  <tbody>\n    <tr>\n      <th>0</th>\n      <td>0</td>\n      <td>0</td>\n      <td>0</td>\n      <td>1</td>\n      <td>0</td>\n      <td>0</td>\n      <td>0</td>\n      <td>1</td>\n      <td>1</td>\n      <td>0</td>\n      <td>...</td>\n      <td>1</td>\n      <td>0</td>\n      <td>0</td>\n      <td>0</td>\n      <td>0</td>\n      <td>1</td>\n      <td>0</td>\n      <td>1</td>\n      <td>0</td>\n      <td>unacc</td>\n    </tr>\n    <tr>\n      <th>1</th>\n      <td>0</td>\n      <td>0</td>\n      <td>0</td>\n      <td>1</td>\n      <td>0</td>\n      <td>0</td>\n      <td>0</td>\n      <td>1</td>\n      <td>1</td>\n      <td>0</td>\n      <td>...</td>\n      <td>1</td>\n      <td>0</td>\n      <td>0</td>\n      <td>0</td>\n      <td>0</td>\n      <td>1</td>\n      <td>0</td>\n      <td>0</td>\n      <td>1</td>\n      <td>unacc</td>\n    </tr>\n    <tr>\n      <th>2</th>\n      <td>0</td>\n      <td>0</td>\n      <td>0</td>\n      <td>1</td>\n      <td>0</td>\n      <td>0</td>\n      <td>0</td>\n      <td>1</td>\n      <td>1</td>\n      <td>0</td>\n      <td>...</td>\n      <td>1</td>\n      <td>0</td>\n      <td>0</td>\n      <td>0</td>\n      <td>0</td>\n      <td>1</td>\n      <td>1</td>\n      <td>0</td>\n      <td>0</td>\n      <td>unacc</td>\n    </tr>\n    <tr>\n      <th>3</th>\n      <td>0</td>\n      <td>0</td>\n      <td>0</td>\n      <td>1</td>\n      <td>0</td>\n      <td>0</td>\n      <td>0</td>\n      <td>1</td>\n      <td>1</td>\n      <td>0</td>\n      <td>...</td>\n      <td>1</td>\n      <td>0</td>\n      <td>0</td>\n      <td>0</td>\n      <td>1</td>\n      <td>0</td>\n      <td>0</td>\n      <td>1</td>\n      <td>0</td>\n      <td>unacc</td>\n    </tr>\n    <tr>\n      <th>4</th>\n      <td>0</td>\n      <td>0</td>\n      <td>0</td>\n      <td>1</td>\n      <td>0</td>\n      <td>0</td>\n      <td>0</td>\n      <td>1</td>\n      <td>1</td>\n      <td>0</td>\n      <td>...</td>\n      <td>1</td>\n      <td>0</td>\n      <td>0</td>\n      <td>0</td>\n      <td>1</td>\n      <td>0</td>\n      <td>0</td>\n      <td>0</td>\n      <td>1</td>\n      <td>unacc</td>\n    </tr>\n  </tbody>\n</table>\n<p>5 rows × 22 columns</p>\n</div>"
     },
     "execution_count": 101,
     "metadata": {},
     "output_type": "execute_result"
    }
   ],
   "source": [
    "car_onehot_encoded.head(5)"
   ]
  },
  {
   "cell_type": "code",
   "execution_count": 102,
   "id": "27073262",
   "metadata": {
    "ExecuteTime": {
     "end_time": "2023-05-12T12:10:16.621254600Z",
     "start_time": "2023-05-12T12:10:16.541464400Z"
    }
   },
   "outputs": [],
   "source": [
    "# 数字编码数据集进行划分\n",
    "x_num = encode_df.iloc[:,:6]\n",
    "y_num = encode_df[\"acceptance\"]\n",
    "# 将百分之七十数据作为训练集，剩余作为测试集。按照acceptance进行分成抽样，确保测试集和训练集满意程度分布情况一致\n",
    "x_train_num, x_test_num, y_train_num, y_test_num = train_test_split(x_num, y_num, test_size=0.3, stratify=y_num, random_state=42)"
   ]
  },
  {
   "cell_type": "code",
   "execution_count": 103,
   "id": "ad8155b4",
   "metadata": {
    "ExecuteTime": {
     "end_time": "2023-05-12T12:10:16.707368400Z",
     "start_time": "2023-05-12T12:10:16.555384400Z"
    }
   },
   "outputs": [
    {
     "name": "stdout",
     "output_type": "stream",
     "text": [
      "unacc    0.700579\n",
      "acc      0.222498\n",
      "good     0.039702\n",
      "vgood    0.037221\n",
      "Name: acceptance, dtype: float64\n",
      "unacc    0.699422\n",
      "acc      0.221580\n",
      "good     0.040462\n",
      "vgood    0.038536\n",
      "Name: acceptance, dtype: float64\n"
     ]
    }
   ],
   "source": [
    "#训练集各个取值样本所占比例\n",
    "print (y_train_num.value_counts()/len(y_train_num))\n",
    "#测试集各个取值样本所占比例\n",
    "print (y_test_num.value_counts()/len(y_test_num))"
   ]
  },
  {
   "cell_type": "code",
   "execution_count": 104,
   "id": "8c7bf5f9",
   "metadata": {
    "ExecuteTime": {
     "end_time": "2023-05-12T12:10:16.707368400Z",
     "start_time": "2023-05-12T12:10:16.569839200Z"
    }
   },
   "outputs": [],
   "source": [
    "# one-hot编码数据集进行划分\n",
    "x_onehot = car_onehot_encoded.iloc[:,:21]\n",
    "y_onehot = car_onehot_encoded[\"acceptance\"]\n",
    "x_train_onehot, x_test_onehot, y_train_onehot, y_test_onehot = train_test_split(x_onehot, y_onehot, test_size=0.3, stratify=y_onehot, random_state=42)"
   ]
  },
  {
   "cell_type": "code",
   "execution_count": 105,
   "id": "6cd317d1",
   "metadata": {
    "ExecuteTime": {
     "end_time": "2023-05-12T12:10:16.707879900Z",
     "start_time": "2023-05-12T12:10:16.585699600Z"
    }
   },
   "outputs": [
    {
     "name": "stdout",
     "output_type": "stream",
     "text": [
      "unacc    0.700579\n",
      "acc      0.222498\n",
      "good     0.039702\n",
      "vgood    0.037221\n",
      "Name: acceptance, dtype: float64\n",
      "unacc    0.699422\n",
      "acc      0.221580\n",
      "good     0.040462\n",
      "vgood    0.038536\n",
      "Name: acceptance, dtype: float64\n"
     ]
    }
   ],
   "source": [
    "# 输出训练集各个取值样本所占比例\n",
    "print (y_train_onehot.value_counts()/len(y_train_onehot))\n",
    "# 输出测试集各个取值样本所占比例\n",
    "print (y_test_onehot.value_counts()/len(y_test_onehot))"
   ]
  },
  {
   "cell_type": "code",
   "execution_count": 106,
   "id": "353af241",
   "metadata": {
    "ExecuteTime": {
     "end_time": "2023-05-12T12:10:16.708603400Z",
     "start_time": "2023-05-12T12:10:16.604063400Z"
    }
   },
   "outputs": [],
   "source": [
    "# 创建逻辑回归模型模型\n",
    "num_model = LogisticRegression(max_iter=5000)\n",
    "onehot_model = LogisticRegression(max_iter=5000)"
   ]
  },
  {
   "cell_type": "code",
   "execution_count": 107,
   "id": "0bb99aa7",
   "metadata": {
    "ExecuteTime": {
     "end_time": "2023-05-12T12:10:16.827154800Z",
     "start_time": "2023-05-12T12:10:16.617245Z"
    }
   },
   "outputs": [
    {
     "data": {
      "text/plain": "LogisticRegression(max_iter=5000)",
      "text/html": "<style>#sk-container-id-3 {color: black;background-color: white;}#sk-container-id-3 pre{padding: 0;}#sk-container-id-3 div.sk-toggleable {background-color: white;}#sk-container-id-3 label.sk-toggleable__label {cursor: pointer;display: block;width: 100%;margin-bottom: 0;padding: 0.3em;box-sizing: border-box;text-align: center;}#sk-container-id-3 label.sk-toggleable__label-arrow:before {content: \"▸\";float: left;margin-right: 0.25em;color: #696969;}#sk-container-id-3 label.sk-toggleable__label-arrow:hover:before {color: black;}#sk-container-id-3 div.sk-estimator:hover label.sk-toggleable__label-arrow:before {color: black;}#sk-container-id-3 div.sk-toggleable__content {max-height: 0;max-width: 0;overflow: hidden;text-align: left;background-color: #f0f8ff;}#sk-container-id-3 div.sk-toggleable__content pre {margin: 0.2em;color: black;border-radius: 0.25em;background-color: #f0f8ff;}#sk-container-id-3 input.sk-toggleable__control:checked~div.sk-toggleable__content {max-height: 200px;max-width: 100%;overflow: auto;}#sk-container-id-3 input.sk-toggleable__control:checked~label.sk-toggleable__label-arrow:before {content: \"▾\";}#sk-container-id-3 div.sk-estimator input.sk-toggleable__control:checked~label.sk-toggleable__label {background-color: #d4ebff;}#sk-container-id-3 div.sk-label input.sk-toggleable__control:checked~label.sk-toggleable__label {background-color: #d4ebff;}#sk-container-id-3 input.sk-hidden--visually {border: 0;clip: rect(1px 1px 1px 1px);clip: rect(1px, 1px, 1px, 1px);height: 1px;margin: -1px;overflow: hidden;padding: 0;position: absolute;width: 1px;}#sk-container-id-3 div.sk-estimator {font-family: monospace;background-color: #f0f8ff;border: 1px dotted black;border-radius: 0.25em;box-sizing: border-box;margin-bottom: 0.5em;}#sk-container-id-3 div.sk-estimator:hover {background-color: #d4ebff;}#sk-container-id-3 div.sk-parallel-item::after {content: \"\";width: 100%;border-bottom: 1px solid gray;flex-grow: 1;}#sk-container-id-3 div.sk-label:hover label.sk-toggleable__label {background-color: #d4ebff;}#sk-container-id-3 div.sk-serial::before {content: \"\";position: absolute;border-left: 1px solid gray;box-sizing: border-box;top: 0;bottom: 0;left: 50%;z-index: 0;}#sk-container-id-3 div.sk-serial {display: flex;flex-direction: column;align-items: center;background-color: white;padding-right: 0.2em;padding-left: 0.2em;position: relative;}#sk-container-id-3 div.sk-item {position: relative;z-index: 1;}#sk-container-id-3 div.sk-parallel {display: flex;align-items: stretch;justify-content: center;background-color: white;position: relative;}#sk-container-id-3 div.sk-item::before, #sk-container-id-3 div.sk-parallel-item::before {content: \"\";position: absolute;border-left: 1px solid gray;box-sizing: border-box;top: 0;bottom: 0;left: 50%;z-index: -1;}#sk-container-id-3 div.sk-parallel-item {display: flex;flex-direction: column;z-index: 1;position: relative;background-color: white;}#sk-container-id-3 div.sk-parallel-item:first-child::after {align-self: flex-end;width: 50%;}#sk-container-id-3 div.sk-parallel-item:last-child::after {align-self: flex-start;width: 50%;}#sk-container-id-3 div.sk-parallel-item:only-child::after {width: 0;}#sk-container-id-3 div.sk-dashed-wrapped {border: 1px dashed gray;margin: 0 0.4em 0.5em 0.4em;box-sizing: border-box;padding-bottom: 0.4em;background-color: white;}#sk-container-id-3 div.sk-label label {font-family: monospace;font-weight: bold;display: inline-block;line-height: 1.2em;}#sk-container-id-3 div.sk-label-container {text-align: center;}#sk-container-id-3 div.sk-container {/* jupyter's `normalize.less` sets `[hidden] { display: none; }` but bootstrap.min.css set `[hidden] { display: none !important; }` so we also need the `!important` here to be able to override the default hidden behavior on the sphinx rendered scikit-learn.org. See: https://github.com/scikit-learn/scikit-learn/issues/21755 */display: inline-block !important;position: relative;}#sk-container-id-3 div.sk-text-repr-fallback {display: none;}</style><div id=\"sk-container-id-3\" class=\"sk-top-container\"><div class=\"sk-text-repr-fallback\"><pre>LogisticRegression(max_iter=5000)</pre><b>In a Jupyter environment, please rerun this cell to show the HTML representation or trust the notebook. <br />On GitHub, the HTML representation is unable to render, please try loading this page with nbviewer.org.</b></div><div class=\"sk-container\" hidden><div class=\"sk-item\"><div class=\"sk-estimator sk-toggleable\"><input class=\"sk-toggleable__control sk-hidden--visually\" id=\"sk-estimator-id-3\" type=\"checkbox\" checked><label for=\"sk-estimator-id-3\" class=\"sk-toggleable__label sk-toggleable__label-arrow\">LogisticRegression</label><div class=\"sk-toggleable__content\"><pre>LogisticRegression(max_iter=5000)</pre></div></div></div></div></div>"
     },
     "execution_count": 107,
     "metadata": {},
     "output_type": "execute_result"
    }
   ],
   "source": [
    "# 分别用数字编码的数据集和one-hot编码的数据集训练模型\n",
    "num_model.fit(x_train_num, y_train_num)\n",
    "onehot_model.fit(x_train_onehot, y_train_onehot)"
   ]
  },
  {
   "cell_type": "code",
   "execution_count": 108,
   "id": "ccef1261",
   "metadata": {
    "ExecuteTime": {
     "end_time": "2023-05-12T12:10:16.828108500Z",
     "start_time": "2023-05-12T12:10:16.710991500Z"
    }
   },
   "outputs": [],
   "source": [
    "# 获取数据编码对应模型的预测结果\n",
    "y_pred_num = num_model.predict(x_test_num)\n",
    "# 获取one-hot编码对应模型的预测结果\n",
    "y_pred_onehot = onehot_model.predict(x_test_onehot)"
   ]
  },
  {
   "cell_type": "code",
   "execution_count": 109,
   "id": "6fdea107",
   "metadata": {
    "ExecuteTime": {
     "end_time": "2023-05-12T12:10:16.846222800Z",
     "start_time": "2023-05-12T12:10:16.725933100Z"
    }
   },
   "outputs": [
    {
     "name": "stdout",
     "output_type": "stream",
     "text": [
      "              precision    recall  f1-score   support\n",
      "\n",
      "         acc       0.65      0.50      0.57       115\n",
      "        good       0.67      0.57      0.62        21\n",
      "       unacc       0.87      0.94      0.90       363\n",
      "       vgood       0.76      0.65      0.70        20\n",
      "\n",
      "    accuracy                           0.82       519\n",
      "   macro avg       0.74      0.67      0.70       519\n",
      "weighted avg       0.81      0.82      0.81       519\n",
      "\n"
     ]
    }
   ],
   "source": [
    "# 查看数字编码训练模型的性能\n",
    "print(classification_report(y_test_num, y_pred_num))"
   ]
  },
  {
   "cell_type": "code",
   "execution_count": 110,
   "id": "aa916238",
   "metadata": {
    "ExecuteTime": {
     "end_time": "2023-05-12T12:10:16.846222800Z",
     "start_time": "2023-05-12T12:10:16.741558100Z"
    }
   },
   "outputs": [
    {
     "name": "stdout",
     "output_type": "stream",
     "text": [
      "              precision    recall  f1-score   support\n",
      "\n",
      "         acc       0.79      0.84      0.82       115\n",
      "        good       0.69      0.43      0.53        21\n",
      "       unacc       0.96      0.97      0.97       363\n",
      "       vgood       0.95      0.90      0.92        20\n",
      "\n",
      "    accuracy                           0.92       519\n",
      "   macro avg       0.85      0.78      0.81       519\n",
      "weighted avg       0.91      0.92      0.91       519\n",
      "\n"
     ]
    }
   ],
   "source": [
    "# 查看onehot编码训练模型的性能\n",
    "print(classification_report(y_test_onehot, y_pred_onehot))\n",
    "#性能似乎更优秀"
   ]
  },
  {
   "cell_type": "code",
   "execution_count": 111,
   "id": "20e206ef",
   "metadata": {
    "ExecuteTime": {
     "end_time": "2023-05-12T12:10:16.846222800Z",
     "start_time": "2023-05-12T12:10:16.755275400Z"
    }
   },
   "outputs": [],
   "source": [
    "car_onehot_encoded.to_csv(\"D:/output/one-hot.csv\")"
   ]
  }
 ],
 "metadata": {
  "kernelspec": {
   "display_name": "Python 3",
   "language": "python",
   "name": "python3"
  },
  "language_info": {
   "codemirror_mode": {
    "name": "ipython",
    "version": 3
   },
   "file_extension": ".py",
   "mimetype": "text/x-python",
   "name": "python",
   "nbconvert_exporter": "python",
   "pygments_lexer": "ipython3",
   "version": "3.8.8"
  }
 },
 "nbformat": 4,
 "nbformat_minor": 5
}
